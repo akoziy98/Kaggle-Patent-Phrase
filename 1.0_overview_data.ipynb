{
 "cells": [
  {
   "cell_type": "markdown",
   "source": [
    "# Overview all data"
   ],
   "metadata": {
    "collapsed": false,
    "pycharm": {
     "name": "#%% md\n"
    }
   }
  },
  {
   "cell_type": "code",
   "execution_count": 2,
   "outputs": [],
   "source": [
    "import os\n",
    "import pandas as pd\n",
    "import numpy as np\n",
    "\n",
    "dataset_path = \"datasets\"\n",
    "train_path = os.path.join(dataset_path, \"train.csv\")\n",
    "test_path = os.path.join(dataset_path, \"test.csv\")\n",
    "submission_path = os.path.join(dataset_path, \"sample_submission.csv\")\n",
    "titles_path = os.path.join(dataset_path, \"titles.csv\")\n",
    "\n",
    "train_dataset = pd.read_csv(train_path)\n",
    "test_dataset = pd.read_csv(test_path)\n",
    "example_submission_dataset = pd.read_csv(submission_path)\n",
    "titles_dataset = pd.read_csv(titles_path)\n"
   ],
   "metadata": {
    "collapsed": false,
    "pycharm": {
     "name": "#%%\n"
    }
   }
  },
  {
   "cell_type": "markdown",
   "source": [
    "## Train dataset"
   ],
   "metadata": {
    "collapsed": false,
    "pycharm": {
     "name": "#%% md\n"
    }
   }
  },
  {
   "cell_type": "code",
   "execution_count": 4,
   "outputs": [
    {
     "data": {
      "text/plain": "                     id                 anchor                 target context  \\\n11421  d98c66dd46a4fa13  enclose with openings  encircle with opening     F21   \n11422  f0ebf22009263a37  enclose with openings           enclose copy     F21   \n11423  788822f777eefebe  enclose with openings      enclose with base     F21   \n11424  93f68de61260b1f5  enclose with openings      enclose with gaps     F21   \n11425  44285e0d8c37f6f9  enclose with openings   enclose with opening     F21   \n...                 ...                    ...                    ...     ...   \n35911  fe07e1177e111575        wave generation                   wave     F21   \n35912  26a65984f156a600        wave generation              wave hill     F21   \n35913  eb004c7f8c2eb000        wave generation             wave house     F21   \n35914  357ed015394c8e36        wave generation                   wind     F21   \n35915  c1cc2116621d17e5        wave generation             wind chime     F21   \n\n       score  \n11421   0.75  \n11422   0.00  \n11423   0.50  \n11424   0.75  \n11425   1.00  \n...      ...  \n35911   0.50  \n35912   0.00  \n35913   0.00  \n35914   0.25  \n35915   0.00  \n\n[111 rows x 5 columns]",
      "text/html": "<div>\n<style scoped>\n    .dataframe tbody tr th:only-of-type {\n        vertical-align: middle;\n    }\n\n    .dataframe tbody tr th {\n        vertical-align: top;\n    }\n\n    .dataframe thead th {\n        text-align: right;\n    }\n</style>\n<table border=\"1\" class=\"dataframe\">\n  <thead>\n    <tr style=\"text-align: right;\">\n      <th></th>\n      <th>id</th>\n      <th>anchor</th>\n      <th>target</th>\n      <th>context</th>\n      <th>score</th>\n    </tr>\n  </thead>\n  <tbody>\n    <tr>\n      <th>11421</th>\n      <td>d98c66dd46a4fa13</td>\n      <td>enclose with openings</td>\n      <td>encircle with opening</td>\n      <td>F21</td>\n      <td>0.75</td>\n    </tr>\n    <tr>\n      <th>11422</th>\n      <td>f0ebf22009263a37</td>\n      <td>enclose with openings</td>\n      <td>enclose copy</td>\n      <td>F21</td>\n      <td>0.00</td>\n    </tr>\n    <tr>\n      <th>11423</th>\n      <td>788822f777eefebe</td>\n      <td>enclose with openings</td>\n      <td>enclose with base</td>\n      <td>F21</td>\n      <td>0.50</td>\n    </tr>\n    <tr>\n      <th>11424</th>\n      <td>93f68de61260b1f5</td>\n      <td>enclose with openings</td>\n      <td>enclose with gaps</td>\n      <td>F21</td>\n      <td>0.75</td>\n    </tr>\n    <tr>\n      <th>11425</th>\n      <td>44285e0d8c37f6f9</td>\n      <td>enclose with openings</td>\n      <td>enclose with opening</td>\n      <td>F21</td>\n      <td>1.00</td>\n    </tr>\n    <tr>\n      <th>...</th>\n      <td>...</td>\n      <td>...</td>\n      <td>...</td>\n      <td>...</td>\n      <td>...</td>\n    </tr>\n    <tr>\n      <th>35911</th>\n      <td>fe07e1177e111575</td>\n      <td>wave generation</td>\n      <td>wave</td>\n      <td>F21</td>\n      <td>0.50</td>\n    </tr>\n    <tr>\n      <th>35912</th>\n      <td>26a65984f156a600</td>\n      <td>wave generation</td>\n      <td>wave hill</td>\n      <td>F21</td>\n      <td>0.00</td>\n    </tr>\n    <tr>\n      <th>35913</th>\n      <td>eb004c7f8c2eb000</td>\n      <td>wave generation</td>\n      <td>wave house</td>\n      <td>F21</td>\n      <td>0.00</td>\n    </tr>\n    <tr>\n      <th>35914</th>\n      <td>357ed015394c8e36</td>\n      <td>wave generation</td>\n      <td>wind</td>\n      <td>F21</td>\n      <td>0.25</td>\n    </tr>\n    <tr>\n      <th>35915</th>\n      <td>c1cc2116621d17e5</td>\n      <td>wave generation</td>\n      <td>wind chime</td>\n      <td>F21</td>\n      <td>0.00</td>\n    </tr>\n  </tbody>\n</table>\n<p>111 rows × 5 columns</p>\n</div>"
     },
     "execution_count": 4,
     "metadata": {},
     "output_type": "execute_result"
    }
   ],
   "source": [
    "train_dataset.loc[train_dataset.context == \"F21\"]"
   ],
   "metadata": {
    "collapsed": false,
    "pycharm": {
     "name": "#%%\n"
    }
   }
  },
  {
   "cell_type": "code",
   "execution_count": 6,
   "outputs": [
    {
     "data": {
      "text/plain": "                     id        anchor                  target context  score\n0      37d61fd2272659b1     abatement  abatement of pollution     A47   0.50\n1      7b9652b17b68b7a4     abatement          act of abating     A47   0.75\n2      36d72442aefd8232     abatement         active catalyst     A47   0.25\n3      5296b0c19e1ce60e     abatement     eliminating process     A47   0.50\n4      54c1e3b9184cb5b6     abatement           forest region     A47   0.00\n...                 ...           ...                     ...     ...    ...\n36468  8e1386cbefd7f245  wood article          wooden article     B44   1.00\n36469  42d9e032d1cd3242  wood article              wooden box     B44   0.50\n36470  208654ccb9e14fa3  wood article           wooden handle     B44   0.50\n36471  756ec035e694722b  wood article         wooden material     B44   0.75\n36472  8d135da0b55b8c88  wood article        wooden substrate     B44   0.50\n\n[36473 rows x 5 columns]",
      "text/html": "<div>\n<style scoped>\n    .dataframe tbody tr th:only-of-type {\n        vertical-align: middle;\n    }\n\n    .dataframe tbody tr th {\n        vertical-align: top;\n    }\n\n    .dataframe thead th {\n        text-align: right;\n    }\n</style>\n<table border=\"1\" class=\"dataframe\">\n  <thead>\n    <tr style=\"text-align: right;\">\n      <th></th>\n      <th>id</th>\n      <th>anchor</th>\n      <th>target</th>\n      <th>context</th>\n      <th>score</th>\n    </tr>\n  </thead>\n  <tbody>\n    <tr>\n      <th>0</th>\n      <td>37d61fd2272659b1</td>\n      <td>abatement</td>\n      <td>abatement of pollution</td>\n      <td>A47</td>\n      <td>0.50</td>\n    </tr>\n    <tr>\n      <th>1</th>\n      <td>7b9652b17b68b7a4</td>\n      <td>abatement</td>\n      <td>act of abating</td>\n      <td>A47</td>\n      <td>0.75</td>\n    </tr>\n    <tr>\n      <th>2</th>\n      <td>36d72442aefd8232</td>\n      <td>abatement</td>\n      <td>active catalyst</td>\n      <td>A47</td>\n      <td>0.25</td>\n    </tr>\n    <tr>\n      <th>3</th>\n      <td>5296b0c19e1ce60e</td>\n      <td>abatement</td>\n      <td>eliminating process</td>\n      <td>A47</td>\n      <td>0.50</td>\n    </tr>\n    <tr>\n      <th>4</th>\n      <td>54c1e3b9184cb5b6</td>\n      <td>abatement</td>\n      <td>forest region</td>\n      <td>A47</td>\n      <td>0.00</td>\n    </tr>\n    <tr>\n      <th>...</th>\n      <td>...</td>\n      <td>...</td>\n      <td>...</td>\n      <td>...</td>\n      <td>...</td>\n    </tr>\n    <tr>\n      <th>36468</th>\n      <td>8e1386cbefd7f245</td>\n      <td>wood article</td>\n      <td>wooden article</td>\n      <td>B44</td>\n      <td>1.00</td>\n    </tr>\n    <tr>\n      <th>36469</th>\n      <td>42d9e032d1cd3242</td>\n      <td>wood article</td>\n      <td>wooden box</td>\n      <td>B44</td>\n      <td>0.50</td>\n    </tr>\n    <tr>\n      <th>36470</th>\n      <td>208654ccb9e14fa3</td>\n      <td>wood article</td>\n      <td>wooden handle</td>\n      <td>B44</td>\n      <td>0.50</td>\n    </tr>\n    <tr>\n      <th>36471</th>\n      <td>756ec035e694722b</td>\n      <td>wood article</td>\n      <td>wooden material</td>\n      <td>B44</td>\n      <td>0.75</td>\n    </tr>\n    <tr>\n      <th>36472</th>\n      <td>8d135da0b55b8c88</td>\n      <td>wood article</td>\n      <td>wooden substrate</td>\n      <td>B44</td>\n      <td>0.50</td>\n    </tr>\n  </tbody>\n</table>\n<p>36473 rows × 5 columns</p>\n</div>"
     },
     "execution_count": 6,
     "metadata": {},
     "output_type": "execute_result"
    }
   ],
   "source": [
    "train_dataset"
   ],
   "metadata": {
    "collapsed": false,
    "pycharm": {
     "name": "#%%\n"
    }
   }
  },
  {
   "cell_type": "markdown",
   "source": [
    "## Test dataset"
   ],
   "metadata": {
    "collapsed": false,
    "pycharm": {
     "name": "#%% md\n"
    }
   }
  },
  {
   "cell_type": "code",
   "execution_count": 4,
   "outputs": [
    {
     "data": {
      "text/plain": "                  id                       anchor  \\\n0   4112d61851461f60                     opc drum   \n1   09e418c93a776564              adjust gas flow   \n2   36baf228038e314b               lower trunnion   \n3   1f37ead645e7f0c8                cap component   \n4   71a5b6ad068d531f           neural stimulation   \n5   474c874d0c07bd21                     dry corn   \n6   442c114ed5c4e3c9          tunneling capacitor   \n7   b8ae62ea5e1d8bdb      angular contact bearing   \n8   faaddaf8fcba8a3f  produce liquid hydrocarbons   \n9   ae0262c02566d2ce             diesel fuel tank   \n10  a8808e31641e856d            chemical activity   \n11  16ae4b99d3601e60         transmit to platform   \n12  25c555ca3d5a2092                  oil tankers   \n13  5203a36c501f1b7c            generate in layer   \n14  b9fdc772bb8fd61c                 slip segment   \n15  7aa5908a77a7ec24                   el display   \n16  d19ef3979396d47e              overflow device   \n17  fd83613b7843f5e1     beam traveling direction   \n18  2a619016908bfa45                   el display   \n19  733979d75f59770d               equipment unit   \n20  6546846df17f9800                   halocarbyl   \n21  3ff0e7a35015be69         perfluoroalkyl group   \n22  12ca31f018a2e2b9          speed control means   \n23  03ba802ed4029e4d                   arm design   \n24  c404f8b378cbb008               hybrid bearing   \n25  78243984c02a72e4                     end pins   \n26  de51114bc0faec3e             organic starting   \n27  7e3aff857f056bf9                make of slabs   \n28  26c3c6dc6174b589                   seal teeth   \n29  b892011ab2e2cabc            carry by platform   \n30  8247ff562ca185cc                        polls   \n31  c057aecbba832387              upper clamp arm   \n32  9f2279ce667b21dc              clocked storage   \n33  b9ea2b06a878df6f              coupling factor   \n34  79795133c30ef097       different conductivity   \n35  25522ee5411e63e9               hybrid bearing   \n\n                           target context  \n0   inorganic photoconductor drum     G02  \n1               altering gas flow     F23  \n2                  lower locating     B60  \n3                   upper portion     D06  \n4       artificial neural network     H04  \n5                 dry corn starch     C12  \n6               capacitor housing     G11  \n7       contact therapy radiation     B23  \n8        produce a treated stream     C10  \n9               diesel fuel tanks     F02  \n10     dielectric characteristics     B01  \n11               direct receiving     H04  \n12                   oil carriers     B63  \n13              generate by layer     G02  \n14                   slip portion     B22  \n15                   illumination     G02  \n16                     oil filler     E04  \n17                  concrete beam     H05  \n18             electroluminescent     C23  \n19                power detection     H02  \n20      halogen addition reaction     C07  \n21                        hydroxy     A63  \n22                   control loop     G05  \n23                    steel plate     F16  \n24                 bearing system     F04  \n25                       end days     A44  \n26                organic farming     B61  \n27                    making cake     E04  \n28                teeth whitening     F01  \n29              carry on platform     B60  \n30                 pooling device     B21  \n31                     end visual     A61  \n32         clocked storage device     G01  \n33                turns impedance     G01  \n34               carrier polarity     H03  \n35            corrosion resistant     F16  ",
      "text/html": "<div>\n<style scoped>\n    .dataframe tbody tr th:only-of-type {\n        vertical-align: middle;\n    }\n\n    .dataframe tbody tr th {\n        vertical-align: top;\n    }\n\n    .dataframe thead th {\n        text-align: right;\n    }\n</style>\n<table border=\"1\" class=\"dataframe\">\n  <thead>\n    <tr style=\"text-align: right;\">\n      <th></th>\n      <th>id</th>\n      <th>anchor</th>\n      <th>target</th>\n      <th>context</th>\n    </tr>\n  </thead>\n  <tbody>\n    <tr>\n      <th>0</th>\n      <td>4112d61851461f60</td>\n      <td>opc drum</td>\n      <td>inorganic photoconductor drum</td>\n      <td>G02</td>\n    </tr>\n    <tr>\n      <th>1</th>\n      <td>09e418c93a776564</td>\n      <td>adjust gas flow</td>\n      <td>altering gas flow</td>\n      <td>F23</td>\n    </tr>\n    <tr>\n      <th>2</th>\n      <td>36baf228038e314b</td>\n      <td>lower trunnion</td>\n      <td>lower locating</td>\n      <td>B60</td>\n    </tr>\n    <tr>\n      <th>3</th>\n      <td>1f37ead645e7f0c8</td>\n      <td>cap component</td>\n      <td>upper portion</td>\n      <td>D06</td>\n    </tr>\n    <tr>\n      <th>4</th>\n      <td>71a5b6ad068d531f</td>\n      <td>neural stimulation</td>\n      <td>artificial neural network</td>\n      <td>H04</td>\n    </tr>\n    <tr>\n      <th>5</th>\n      <td>474c874d0c07bd21</td>\n      <td>dry corn</td>\n      <td>dry corn starch</td>\n      <td>C12</td>\n    </tr>\n    <tr>\n      <th>6</th>\n      <td>442c114ed5c4e3c9</td>\n      <td>tunneling capacitor</td>\n      <td>capacitor housing</td>\n      <td>G11</td>\n    </tr>\n    <tr>\n      <th>7</th>\n      <td>b8ae62ea5e1d8bdb</td>\n      <td>angular contact bearing</td>\n      <td>contact therapy radiation</td>\n      <td>B23</td>\n    </tr>\n    <tr>\n      <th>8</th>\n      <td>faaddaf8fcba8a3f</td>\n      <td>produce liquid hydrocarbons</td>\n      <td>produce a treated stream</td>\n      <td>C10</td>\n    </tr>\n    <tr>\n      <th>9</th>\n      <td>ae0262c02566d2ce</td>\n      <td>diesel fuel tank</td>\n      <td>diesel fuel tanks</td>\n      <td>F02</td>\n    </tr>\n    <tr>\n      <th>10</th>\n      <td>a8808e31641e856d</td>\n      <td>chemical activity</td>\n      <td>dielectric characteristics</td>\n      <td>B01</td>\n    </tr>\n    <tr>\n      <th>11</th>\n      <td>16ae4b99d3601e60</td>\n      <td>transmit to platform</td>\n      <td>direct receiving</td>\n      <td>H04</td>\n    </tr>\n    <tr>\n      <th>12</th>\n      <td>25c555ca3d5a2092</td>\n      <td>oil tankers</td>\n      <td>oil carriers</td>\n      <td>B63</td>\n    </tr>\n    <tr>\n      <th>13</th>\n      <td>5203a36c501f1b7c</td>\n      <td>generate in layer</td>\n      <td>generate by layer</td>\n      <td>G02</td>\n    </tr>\n    <tr>\n      <th>14</th>\n      <td>b9fdc772bb8fd61c</td>\n      <td>slip segment</td>\n      <td>slip portion</td>\n      <td>B22</td>\n    </tr>\n    <tr>\n      <th>15</th>\n      <td>7aa5908a77a7ec24</td>\n      <td>el display</td>\n      <td>illumination</td>\n      <td>G02</td>\n    </tr>\n    <tr>\n      <th>16</th>\n      <td>d19ef3979396d47e</td>\n      <td>overflow device</td>\n      <td>oil filler</td>\n      <td>E04</td>\n    </tr>\n    <tr>\n      <th>17</th>\n      <td>fd83613b7843f5e1</td>\n      <td>beam traveling direction</td>\n      <td>concrete beam</td>\n      <td>H05</td>\n    </tr>\n    <tr>\n      <th>18</th>\n      <td>2a619016908bfa45</td>\n      <td>el display</td>\n      <td>electroluminescent</td>\n      <td>C23</td>\n    </tr>\n    <tr>\n      <th>19</th>\n      <td>733979d75f59770d</td>\n      <td>equipment unit</td>\n      <td>power detection</td>\n      <td>H02</td>\n    </tr>\n    <tr>\n      <th>20</th>\n      <td>6546846df17f9800</td>\n      <td>halocarbyl</td>\n      <td>halogen addition reaction</td>\n      <td>C07</td>\n    </tr>\n    <tr>\n      <th>21</th>\n      <td>3ff0e7a35015be69</td>\n      <td>perfluoroalkyl group</td>\n      <td>hydroxy</td>\n      <td>A63</td>\n    </tr>\n    <tr>\n      <th>22</th>\n      <td>12ca31f018a2e2b9</td>\n      <td>speed control means</td>\n      <td>control loop</td>\n      <td>G05</td>\n    </tr>\n    <tr>\n      <th>23</th>\n      <td>03ba802ed4029e4d</td>\n      <td>arm design</td>\n      <td>steel plate</td>\n      <td>F16</td>\n    </tr>\n    <tr>\n      <th>24</th>\n      <td>c404f8b378cbb008</td>\n      <td>hybrid bearing</td>\n      <td>bearing system</td>\n      <td>F04</td>\n    </tr>\n    <tr>\n      <th>25</th>\n      <td>78243984c02a72e4</td>\n      <td>end pins</td>\n      <td>end days</td>\n      <td>A44</td>\n    </tr>\n    <tr>\n      <th>26</th>\n      <td>de51114bc0faec3e</td>\n      <td>organic starting</td>\n      <td>organic farming</td>\n      <td>B61</td>\n    </tr>\n    <tr>\n      <th>27</th>\n      <td>7e3aff857f056bf9</td>\n      <td>make of slabs</td>\n      <td>making cake</td>\n      <td>E04</td>\n    </tr>\n    <tr>\n      <th>28</th>\n      <td>26c3c6dc6174b589</td>\n      <td>seal teeth</td>\n      <td>teeth whitening</td>\n      <td>F01</td>\n    </tr>\n    <tr>\n      <th>29</th>\n      <td>b892011ab2e2cabc</td>\n      <td>carry by platform</td>\n      <td>carry on platform</td>\n      <td>B60</td>\n    </tr>\n    <tr>\n      <th>30</th>\n      <td>8247ff562ca185cc</td>\n      <td>polls</td>\n      <td>pooling device</td>\n      <td>B21</td>\n    </tr>\n    <tr>\n      <th>31</th>\n      <td>c057aecbba832387</td>\n      <td>upper clamp arm</td>\n      <td>end visual</td>\n      <td>A61</td>\n    </tr>\n    <tr>\n      <th>32</th>\n      <td>9f2279ce667b21dc</td>\n      <td>clocked storage</td>\n      <td>clocked storage device</td>\n      <td>G01</td>\n    </tr>\n    <tr>\n      <th>33</th>\n      <td>b9ea2b06a878df6f</td>\n      <td>coupling factor</td>\n      <td>turns impedance</td>\n      <td>G01</td>\n    </tr>\n    <tr>\n      <th>34</th>\n      <td>79795133c30ef097</td>\n      <td>different conductivity</td>\n      <td>carrier polarity</td>\n      <td>H03</td>\n    </tr>\n    <tr>\n      <th>35</th>\n      <td>25522ee5411e63e9</td>\n      <td>hybrid bearing</td>\n      <td>corrosion resistant</td>\n      <td>F16</td>\n    </tr>\n  </tbody>\n</table>\n</div>"
     },
     "execution_count": 4,
     "metadata": {},
     "output_type": "execute_result"
    }
   ],
   "source": [
    "test_dataset"
   ],
   "metadata": {
    "collapsed": false,
    "pycharm": {
     "name": "#%%\n"
    }
   }
  },
  {
   "cell_type": "markdown",
   "source": [
    "## Submission dataset"
   ],
   "metadata": {
    "collapsed": false,
    "pycharm": {
     "name": "#%% md\n"
    }
   }
  },
  {
   "cell_type": "code",
   "execution_count": 5,
   "outputs": [
    {
     "data": {
      "text/plain": "                  id  score\n0   4112d61851461f60      0\n1   09e418c93a776564      0\n2   36baf228038e314b      0\n3   1f37ead645e7f0c8      0\n4   71a5b6ad068d531f      0\n5   474c874d0c07bd21      0\n6   442c114ed5c4e3c9      0\n7   b8ae62ea5e1d8bdb      0\n8   faaddaf8fcba8a3f      0\n9   ae0262c02566d2ce      0\n10  a8808e31641e856d      0\n11  16ae4b99d3601e60      0\n12  25c555ca3d5a2092      0\n13  5203a36c501f1b7c      0\n14  b9fdc772bb8fd61c      0\n15  7aa5908a77a7ec24      0\n16  d19ef3979396d47e      0\n17  fd83613b7843f5e1      0\n18  2a619016908bfa45      0\n19  733979d75f59770d      0\n20  6546846df17f9800      0\n21  3ff0e7a35015be69      0\n22  12ca31f018a2e2b9      0\n23  03ba802ed4029e4d      0\n24  c404f8b378cbb008      0\n25  78243984c02a72e4      0\n26  de51114bc0faec3e      0\n27  7e3aff857f056bf9      0\n28  26c3c6dc6174b589      0\n29  b892011ab2e2cabc      0\n30  8247ff562ca185cc      0\n31  c057aecbba832387      0\n32  9f2279ce667b21dc      0\n33  b9ea2b06a878df6f      0\n34  79795133c30ef097      0\n35  25522ee5411e63e9      0",
      "text/html": "<div>\n<style scoped>\n    .dataframe tbody tr th:only-of-type {\n        vertical-align: middle;\n    }\n\n    .dataframe tbody tr th {\n        vertical-align: top;\n    }\n\n    .dataframe thead th {\n        text-align: right;\n    }\n</style>\n<table border=\"1\" class=\"dataframe\">\n  <thead>\n    <tr style=\"text-align: right;\">\n      <th></th>\n      <th>id</th>\n      <th>score</th>\n    </tr>\n  </thead>\n  <tbody>\n    <tr>\n      <th>0</th>\n      <td>4112d61851461f60</td>\n      <td>0</td>\n    </tr>\n    <tr>\n      <th>1</th>\n      <td>09e418c93a776564</td>\n      <td>0</td>\n    </tr>\n    <tr>\n      <th>2</th>\n      <td>36baf228038e314b</td>\n      <td>0</td>\n    </tr>\n    <tr>\n      <th>3</th>\n      <td>1f37ead645e7f0c8</td>\n      <td>0</td>\n    </tr>\n    <tr>\n      <th>4</th>\n      <td>71a5b6ad068d531f</td>\n      <td>0</td>\n    </tr>\n    <tr>\n      <th>5</th>\n      <td>474c874d0c07bd21</td>\n      <td>0</td>\n    </tr>\n    <tr>\n      <th>6</th>\n      <td>442c114ed5c4e3c9</td>\n      <td>0</td>\n    </tr>\n    <tr>\n      <th>7</th>\n      <td>b8ae62ea5e1d8bdb</td>\n      <td>0</td>\n    </tr>\n    <tr>\n      <th>8</th>\n      <td>faaddaf8fcba8a3f</td>\n      <td>0</td>\n    </tr>\n    <tr>\n      <th>9</th>\n      <td>ae0262c02566d2ce</td>\n      <td>0</td>\n    </tr>\n    <tr>\n      <th>10</th>\n      <td>a8808e31641e856d</td>\n      <td>0</td>\n    </tr>\n    <tr>\n      <th>11</th>\n      <td>16ae4b99d3601e60</td>\n      <td>0</td>\n    </tr>\n    <tr>\n      <th>12</th>\n      <td>25c555ca3d5a2092</td>\n      <td>0</td>\n    </tr>\n    <tr>\n      <th>13</th>\n      <td>5203a36c501f1b7c</td>\n      <td>0</td>\n    </tr>\n    <tr>\n      <th>14</th>\n      <td>b9fdc772bb8fd61c</td>\n      <td>0</td>\n    </tr>\n    <tr>\n      <th>15</th>\n      <td>7aa5908a77a7ec24</td>\n      <td>0</td>\n    </tr>\n    <tr>\n      <th>16</th>\n      <td>d19ef3979396d47e</td>\n      <td>0</td>\n    </tr>\n    <tr>\n      <th>17</th>\n      <td>fd83613b7843f5e1</td>\n      <td>0</td>\n    </tr>\n    <tr>\n      <th>18</th>\n      <td>2a619016908bfa45</td>\n      <td>0</td>\n    </tr>\n    <tr>\n      <th>19</th>\n      <td>733979d75f59770d</td>\n      <td>0</td>\n    </tr>\n    <tr>\n      <th>20</th>\n      <td>6546846df17f9800</td>\n      <td>0</td>\n    </tr>\n    <tr>\n      <th>21</th>\n      <td>3ff0e7a35015be69</td>\n      <td>0</td>\n    </tr>\n    <tr>\n      <th>22</th>\n      <td>12ca31f018a2e2b9</td>\n      <td>0</td>\n    </tr>\n    <tr>\n      <th>23</th>\n      <td>03ba802ed4029e4d</td>\n      <td>0</td>\n    </tr>\n    <tr>\n      <th>24</th>\n      <td>c404f8b378cbb008</td>\n      <td>0</td>\n    </tr>\n    <tr>\n      <th>25</th>\n      <td>78243984c02a72e4</td>\n      <td>0</td>\n    </tr>\n    <tr>\n      <th>26</th>\n      <td>de51114bc0faec3e</td>\n      <td>0</td>\n    </tr>\n    <tr>\n      <th>27</th>\n      <td>7e3aff857f056bf9</td>\n      <td>0</td>\n    </tr>\n    <tr>\n      <th>28</th>\n      <td>26c3c6dc6174b589</td>\n      <td>0</td>\n    </tr>\n    <tr>\n      <th>29</th>\n      <td>b892011ab2e2cabc</td>\n      <td>0</td>\n    </tr>\n    <tr>\n      <th>30</th>\n      <td>8247ff562ca185cc</td>\n      <td>0</td>\n    </tr>\n    <tr>\n      <th>31</th>\n      <td>c057aecbba832387</td>\n      <td>0</td>\n    </tr>\n    <tr>\n      <th>32</th>\n      <td>9f2279ce667b21dc</td>\n      <td>0</td>\n    </tr>\n    <tr>\n      <th>33</th>\n      <td>b9ea2b06a878df6f</td>\n      <td>0</td>\n    </tr>\n    <tr>\n      <th>34</th>\n      <td>79795133c30ef097</td>\n      <td>0</td>\n    </tr>\n    <tr>\n      <th>35</th>\n      <td>25522ee5411e63e9</td>\n      <td>0</td>\n    </tr>\n  </tbody>\n</table>\n</div>"
     },
     "execution_count": 5,
     "metadata": {},
     "output_type": "execute_result"
    }
   ],
   "source": [
    "example_submission_dataset"
   ],
   "metadata": {
    "collapsed": false,
    "pycharm": {
     "name": "#%%\n"
    }
   }
  },
  {
   "cell_type": "markdown",
   "source": [
    "## Titles dataset"
   ],
   "metadata": {
    "collapsed": false,
    "pycharm": {
     "name": "#%% md\n"
    }
   }
  },
  {
   "cell_type": "code",
   "execution_count": 3,
   "outputs": [
    {
     "data": {
      "text/plain": "                code                                              title  \\\n0                  A                                  HUMAN NECESSITIES   \n1                A01  AGRICULTURE; FORESTRY; ANIMAL HUSBANDRY; HUNTI...   \n2               A01B  SOIL WORKING IN AGRICULTURE OR FORESTRY; PARTS...   \n3           A01B1/00  Hand tools (edge trimmers for lawns A01G3/06  ...   \n4           A01B1/02  Spades; Shovels {(hand-operated dredgers E02F3...   \n...              ...                                                ...   \n260471  Y10T483/1864                      including tool pot or adapter   \n260472  Y10T483/1873                                    Indexing matrix   \n260473  Y10T483/1882                                        Rotary disc   \n260474  Y10T483/1891                                      Chain or belt   \n260475    Y10T483/19                                      Miscellaneous   \n\n       section  class subclass  group  main_group  \n0            A    NaN      NaN    NaN         NaN  \n1            A    1.0      NaN    NaN         NaN  \n2            A    1.0        B    NaN         NaN  \n3            A    1.0        B    1.0         0.0  \n4            A    1.0        B    1.0         2.0  \n...        ...    ...      ...    ...         ...  \n260471       Y   10.0        T  483.0      1864.0  \n260472       Y   10.0        T  483.0      1873.0  \n260473       Y   10.0        T  483.0      1882.0  \n260474       Y   10.0        T  483.0      1891.0  \n260475       Y   10.0        T  483.0        19.0  \n\n[260476 rows x 7 columns]",
      "text/html": "<div>\n<style scoped>\n    .dataframe tbody tr th:only-of-type {\n        vertical-align: middle;\n    }\n\n    .dataframe tbody tr th {\n        vertical-align: top;\n    }\n\n    .dataframe thead th {\n        text-align: right;\n    }\n</style>\n<table border=\"1\" class=\"dataframe\">\n  <thead>\n    <tr style=\"text-align: right;\">\n      <th></th>\n      <th>code</th>\n      <th>title</th>\n      <th>section</th>\n      <th>class</th>\n      <th>subclass</th>\n      <th>group</th>\n      <th>main_group</th>\n    </tr>\n  </thead>\n  <tbody>\n    <tr>\n      <th>0</th>\n      <td>A</td>\n      <td>HUMAN NECESSITIES</td>\n      <td>A</td>\n      <td>NaN</td>\n      <td>NaN</td>\n      <td>NaN</td>\n      <td>NaN</td>\n    </tr>\n    <tr>\n      <th>1</th>\n      <td>A01</td>\n      <td>AGRICULTURE; FORESTRY; ANIMAL HUSBANDRY; HUNTI...</td>\n      <td>A</td>\n      <td>1.0</td>\n      <td>NaN</td>\n      <td>NaN</td>\n      <td>NaN</td>\n    </tr>\n    <tr>\n      <th>2</th>\n      <td>A01B</td>\n      <td>SOIL WORKING IN AGRICULTURE OR FORESTRY; PARTS...</td>\n      <td>A</td>\n      <td>1.0</td>\n      <td>B</td>\n      <td>NaN</td>\n      <td>NaN</td>\n    </tr>\n    <tr>\n      <th>3</th>\n      <td>A01B1/00</td>\n      <td>Hand tools (edge trimmers for lawns A01G3/06  ...</td>\n      <td>A</td>\n      <td>1.0</td>\n      <td>B</td>\n      <td>1.0</td>\n      <td>0.0</td>\n    </tr>\n    <tr>\n      <th>4</th>\n      <td>A01B1/02</td>\n      <td>Spades; Shovels {(hand-operated dredgers E02F3...</td>\n      <td>A</td>\n      <td>1.0</td>\n      <td>B</td>\n      <td>1.0</td>\n      <td>2.0</td>\n    </tr>\n    <tr>\n      <th>...</th>\n      <td>...</td>\n      <td>...</td>\n      <td>...</td>\n      <td>...</td>\n      <td>...</td>\n      <td>...</td>\n      <td>...</td>\n    </tr>\n    <tr>\n      <th>260471</th>\n      <td>Y10T483/1864</td>\n      <td>including tool pot or adapter</td>\n      <td>Y</td>\n      <td>10.0</td>\n      <td>T</td>\n      <td>483.0</td>\n      <td>1864.0</td>\n    </tr>\n    <tr>\n      <th>260472</th>\n      <td>Y10T483/1873</td>\n      <td>Indexing matrix</td>\n      <td>Y</td>\n      <td>10.0</td>\n      <td>T</td>\n      <td>483.0</td>\n      <td>1873.0</td>\n    </tr>\n    <tr>\n      <th>260473</th>\n      <td>Y10T483/1882</td>\n      <td>Rotary disc</td>\n      <td>Y</td>\n      <td>10.0</td>\n      <td>T</td>\n      <td>483.0</td>\n      <td>1882.0</td>\n    </tr>\n    <tr>\n      <th>260474</th>\n      <td>Y10T483/1891</td>\n      <td>Chain or belt</td>\n      <td>Y</td>\n      <td>10.0</td>\n      <td>T</td>\n      <td>483.0</td>\n      <td>1891.0</td>\n    </tr>\n    <tr>\n      <th>260475</th>\n      <td>Y10T483/19</td>\n      <td>Miscellaneous</td>\n      <td>Y</td>\n      <td>10.0</td>\n      <td>T</td>\n      <td>483.0</td>\n      <td>19.0</td>\n    </tr>\n  </tbody>\n</table>\n<p>260476 rows × 7 columns</p>\n</div>"
     },
     "execution_count": 3,
     "metadata": {},
     "output_type": "execute_result"
    }
   ],
   "source": [
    "titles_dataset"
   ],
   "metadata": {
    "collapsed": false,
    "pycharm": {
     "name": "#%%\n"
    }
   }
  },
  {
   "cell_type": "code",
   "execution_count": 8,
   "outputs": [
    {
     "name": "stdout",
     "output_type": "stream",
     "text": [
      "Hand tools (edge trimmers for lawns A01G3/06  {; machines for working soil A01B35/00; making hand tools B21D})\n"
     ]
    }
   ],
   "source": [
    "print(titles_dataset.iloc[3].title)"
   ],
   "metadata": {
    "collapsed": false,
    "pycharm": {
     "name": "#%%\n"
    }
   }
  },
  {
   "cell_type": "code",
   "execution_count": null,
   "outputs": [],
   "source": [],
   "metadata": {
    "collapsed": false,
    "pycharm": {
     "name": "#%%\n"
    }
   }
  }
 ],
 "metadata": {
  "kernelspec": {
   "display_name": "Python 3",
   "language": "python",
   "name": "python3"
  },
  "language_info": {
   "codemirror_mode": {
    "name": "ipython",
    "version": 2
   },
   "file_extension": ".py",
   "mimetype": "text/x-python",
   "name": "python",
   "nbconvert_exporter": "python",
   "pygments_lexer": "ipython2",
   "version": "2.7.6"
  }
 },
 "nbformat": 4,
 "nbformat_minor": 0
}